{
 "cells": [
  {
   "cell_type": "code",
   "execution_count": 1,
   "metadata": {
    "collapsed": true
   },
   "outputs": [],
   "source": [
    "import numpy as np\n",
    "from scipy.sparse import csr_matrix\n",
    "import pdb\n",
    "from time import time\n",
    "import cPickle as pickle\n",
    "import os\n",
    "# --------\n",
    "import theano\n",
    "from theano import tensor as T\n",
    "import lasagne\n",
    "from lasagne.layers import *\n",
    "from lasagne.objectives import *\n",
    "from lasagne.nonlinearities import *\n",
    "from lasagne.updates import *\n",
    "from lasagne.utils import *\n",
    "from lasagne.regularization import *\n",
    "\n",
    "import itertools"
   ]
  },
  {
   "cell_type": "code",
   "execution_count": 4,
   "metadata": {
    "collapsed": false
   },
   "outputs": [],
   "source": [
    "import sys\n",
    "sys.path.append(\"..\")\n",
    "import create_data"
   ]
  },
  {
   "cell_type": "code",
   "execution_count": 93,
   "metadata": {
    "collapsed": false
   },
   "outputs": [
    {
     "name": "stdout",
     "output_type": "stream",
     "text": [
      "compiling theano functions...\n",
      "<lasagne.layers.input.InputLayer object at 0x126692d90> (None, 65133)\n",
      "<lasagne.layers.dense.DenseLayer object at 0x1261afb50> (None, 25)\n",
      "<lasagne.layers.dense.DenseLayer object at 0x1261bcd10> (None, 25)\n",
      "<lasagne.layers.dense.DenseLayer object at 0x1261d9f90> (None, 25)\n",
      "<lasagne.layers.dense.DenseLayer object at 0x1261e8e10> (None, 65133)\n",
      "number of params: 3323108\n",
      "<lasagne.layers.input.InputLayer object at 0x113120e90> (None, 71567)\n",
      "<lasagne.layers.dense.DenseLayer object at 0x1131287d0> (None, 25)\n",
      "<lasagne.layers.dense.DenseLayer object at 0x113128f10> (None, 25)\n",
      "<lasagne.layers.dense.DenseLayer object at 0x113128c90> (None, 25)\n",
      "<lasagne.layers.dense.DenseLayer object at 0x1261f89d0> (None, 71567)\n",
      "number of params: 3651242\n",
      "params = [W, b, W, b, W, b, W, b, W, b, W, b, W, b, W, b]\n"
     ]
    }
   ],
   "source": [
    "bottleneck = 25\n",
    "net1_cfg = create_data.get_net(\n",
    "    (create_data.ui_encoder),\n",
    "    {\"bottleneck\":bottleneck, \"code\":bottleneck, \"learning_rate\":0.1, \"nonlinearity\":sigmoid, \"optimiser\":\"nesterov_momentum\", \"mode\":\"both\"})"
   ]
  },
  {
   "cell_type": "code",
   "execution_count": 94,
   "metadata": {
    "collapsed": false
   },
   "outputs": [
    {
     "name": "stdout",
     "output_type": "stream",
     "text": [
      "<lasagne.layers.input.InputLayer object at 0x126692d90> (None, 65133)\n",
      "<lasagne.layers.dense.DenseLayer object at 0x1261afb50> (None, 25)\n",
      "<lasagne.layers.dense.DenseLayer object at 0x1261bcd10> (None, 25)\n",
      "<lasagne.layers.dense.DenseLayer object at 0x1261d9f90> (None, 25)\n",
      "<lasagne.layers.dense.DenseLayer object at 0x1261e8e10> (None, 65133)\n"
     ]
    }
   ],
   "source": [
    "for layer in get_all_layers(net1_cfg[\"l_out_i\"]):\n",
    "    print layer, layer.output_shape"
   ]
  },
  {
   "cell_type": "code",
   "execution_count": 95,
   "metadata": {
    "collapsed": false
   },
   "outputs": [
    {
     "name": "stdout",
     "output_type": "stream",
     "text": [
      "<lasagne.layers.input.InputLayer object at 0x113120e90> (None, 71567)\n",
      "<lasagne.layers.dense.DenseLayer object at 0x1131287d0> (None, 25)\n",
      "<lasagne.layers.dense.DenseLayer object at 0x113128f10> (None, 25)\n",
      "<lasagne.layers.dense.DenseLayer object at 0x113128c90> (None, 25)\n",
      "<lasagne.layers.dense.DenseLayer object at 0x1261f89d0> (None, 71567)\n"
     ]
    }
   ],
   "source": [
    "for layer in get_all_layers(net1_cfg[\"l_out_u\"]):\n",
    "    print layer, layer.output_shape"
   ]
  },
  {
   "cell_type": "code",
   "execution_count": 26,
   "metadata": {
    "collapsed": false
   },
   "outputs": [
    {
     "data": {
      "text/plain": [
       "{'code_fn_i': <theano.compile.function_module.Function at 0x118cce910>,\n",
       " 'code_fn_u': <theano.compile.function_module.Function at 0x118ce2c10>,\n",
       " 'l_out_i': <lasagne.layers.dense.DenseLayer at 0x113110550>,\n",
       " 'l_out_u': <lasagne.layers.dense.DenseLayer at 0x113110f10>,\n",
       " 'loss_fn': <theano.compile.function_module.Function at 0x118a56e90>,\n",
       " 'lr': <TensorType(float64, scalar)>,\n",
       " 'train_fn': <theano.compile.function_module.Function at 0x1185f4ed0>}"
      ]
     },
     "execution_count": 26,
     "metadata": {},
     "output_type": "execute_result"
    }
   ],
   "source": [
    "net1_cfg\n"
   ]
  },
  {
   "cell_type": "code",
   "execution_count": 96,
   "metadata": {
    "collapsed": false
   },
   "outputs": [],
   "source": [
    "with open(\"25-25.model\") as f:\n",
    "    dat = pickle.load(f)\n",
    "    params_i = dat[0]\n",
    "    params_u = dat[1]\n",
    "    set_all_param_values(net1_cfg[\"l_out_i\"], params_i)\n",
    "    set_all_param_values(net1_cfg[\"l_out_u\"], params_u)"
   ]
  },
  {
   "cell_type": "code",
   "execution_count": 104,
   "metadata": {
    "collapsed": false
   },
   "outputs": [
    {
     "data": {
      "text/plain": [
       "array([[-0.01227422,  0.33293974,  0.19250999, -0.1163257 , -0.1270375 ,\n",
       "         0.11828431, -0.14832671, -0.12354697,  0.21742257,  0.18528645],\n",
       "       [-0.32743409, -0.12415475, -0.09927682,  0.09288511, -0.21406843,\n",
       "        -0.10749659, -0.2894944 , -0.33860025,  0.27805173,  0.33495697],\n",
       "       [ 0.32029226,  0.50546241, -0.00061859,  0.39547402,  0.34319267,\n",
       "         0.09334932,  0.56411779, -0.07826139,  0.16967066,  0.31222349],\n",
       "       [ 0.21068595,  0.31042519, -0.02513475,  0.08753958, -0.31082827,\n",
       "         0.01108275, -0.01850634, -0.13991237,  0.03181922, -0.19827157],\n",
       "       [-0.15630689, -0.02627443,  0.0697992 ,  0.26905671, -0.15178277,\n",
       "         0.44489771,  0.33548516,  0.44377539,  0.07470329, -0.13700899],\n",
       "       [ 0.47787485,  0.27530327, -0.06247965,  0.12468963,  0.41312572,\n",
       "         0.31174806,  0.34956387, -0.12727726,  0.43104559,  0.43693721],\n",
       "       [ 0.11644754, -0.00360599,  0.13655266, -0.22930831, -0.26166332,\n",
       "         0.03177318,  0.23263986, -0.00325965, -0.20403574, -0.10752201],\n",
       "       [-0.172034  , -0.23458076, -0.10950923, -0.32634529, -0.2492834 ,\n",
       "        -0.18822193, -0.08821953, -0.07060803, -0.12277318,  0.22201079],\n",
       "       [ 0.23553158,  0.48488948,  0.31665412,  0.47614491,  0.33565283,\n",
       "         0.10306641,  0.04775732,  0.07249421,  0.0926021 ,  0.09550186],\n",
       "       [ 0.09939271,  0.22518912, -0.16889808,  0.22617389, -0.28045088,\n",
       "        -0.0349087 , -0.11069593, -0.20154154, -0.22851463, -0.25738755]], dtype=float32)"
      ]
     },
     "execution_count": 104,
     "metadata": {},
     "output_type": "execute_result"
    }
   ],
   "source": [
    "params_i[2][0:10,0:10]"
   ]
  },
  {
   "cell_type": "code",
   "execution_count": 105,
   "metadata": {
    "collapsed": false
   },
   "outputs": [
    {
     "data": {
      "text/plain": [
       "array([[  6.41373023e-02,  -1.95357800e-01,   5.58090806e-02,\n",
       "         -2.01664463e-01,  -2.88541526e-01,  -1.61801144e-01,\n",
       "         -1.84139743e-01,   1.75837070e-01,  -3.13664645e-01,\n",
       "         -1.20617613e-01],\n",
       "       [ -1.98102057e-01,   3.07705015e-01,   2.99916327e-01,\n",
       "         -3.01868111e-01,  -3.26394320e-01,  -2.49170542e-01,\n",
       "         -1.97842926e-01,   3.07546500e-02,   2.64034420e-01,\n",
       "          3.11691880e-01],\n",
       "       [ -2.85413682e-01,  -2.63856918e-01,   3.04853171e-01,\n",
       "         -3.09802979e-01,   2.66072959e-01,   1.37466975e-02,\n",
       "         -2.61766165e-01,   1.13286510e-01,  -2.61671767e-02,\n",
       "         -1.27040654e-01],\n",
       "       [ -1.82190418e-01,   1.69807926e-01,  -1.41572759e-01,\n",
       "         -2.19979882e-01,   2.76727200e-01,   2.81139821e-01,\n",
       "          8.49171914e-03,   1.07202949e-02,   1.41776666e-01,\n",
       "          1.63832426e-01],\n",
       "       [  1.22123964e-01,  -3.33161771e-01,   3.19043219e-01,\n",
       "          1.45682603e-01,  -1.35043515e-02,  -1.46022914e-02,\n",
       "         -1.71828166e-01,  -1.81549311e-01,   1.08509310e-01,\n",
       "          2.83308089e-01],\n",
       "       [ -2.65482157e-01,   2.77369857e-01,  -2.93174118e-01,\n",
       "         -3.07215434e-02,  -2.47198150e-01,   3.06654430e-04,\n",
       "         -1.11338034e-01,   2.89632946e-01,  -7.19571114e-02,\n",
       "          3.43687505e-01],\n",
       "       [  3.45438570e-01,   9.82206985e-02,   3.01600963e-01,\n",
       "          1.90509811e-01,   2.28379652e-01,   1.38037518e-01,\n",
       "          1.37040168e-01,  -2.57527560e-01,  -4.51121526e-03,\n",
       "         -3.82902250e-02],\n",
       "       [ -2.01086044e-01,  -1.59297720e-01,  -2.17416957e-01,\n",
       "          2.96474665e-01,  -1.09346382e-01,   2.85390228e-01,\n",
       "         -2.87626356e-01,   2.89379731e-02,   7.62594417e-02,\n",
       "         -2.69839913e-01],\n",
       "       [  1.32985234e-01,   2.71904264e-02,   3.17473114e-01,\n",
       "         -4.72327247e-02,  -2.73592379e-02,  -1.29994050e-01,\n",
       "          4.34084572e-02,  -9.93975922e-02,   8.40626284e-02,\n",
       "          1.76969320e-01],\n",
       "       [  2.64459372e-01,   1.16181090e-01,  -1.68294653e-01,\n",
       "         -2.85330653e-01,  -3.35592508e-01,   3.37222368e-02,\n",
       "          4.04754095e-02,  -9.95083228e-02,   1.09570570e-01,\n",
       "         -2.09114656e-01]], dtype=float32)"
      ]
     },
     "execution_count": 105,
     "metadata": {},
     "output_type": "execute_result"
    }
   ],
   "source": [
    "params_u[2][0:10,0:10]"
   ]
  },
  {
   "cell_type": "code",
   "execution_count": 97,
   "metadata": {
    "collapsed": false
   },
   "outputs": [
    {
     "data": {
      "text/plain": [
       "array([[ 0.0641373 , -0.1953578 ,  0.05580908, -0.20166446, -0.28854153],\n",
       "       [-0.19810206,  0.30770501,  0.29991633, -0.30186811, -0.32639432],\n",
       "       [-0.28541368, -0.26385692,  0.30485317, -0.30980298,  0.26607296],\n",
       "       [-0.18219042,  0.16980793, -0.14157276, -0.21997988,  0.2767272 ],\n",
       "       [ 0.12212396, -0.33316177,  0.31904322,  0.1456826 , -0.01350435]])"
      ]
     },
     "execution_count": 97,
     "metadata": {},
     "output_type": "execute_result"
    }
   ],
   "source": [
    "net1_cfg[\"l_out_u\"].input_layer.input_layer.W.get_value()[0:5,0:5]"
   ]
  },
  {
   "cell_type": "code",
   "execution_count": 98,
   "metadata": {
    "collapsed": false
   },
   "outputs": [
    {
     "data": {
      "text/plain": [
       "array([[ 0.0641373 , -0.1953578 ,  0.05580908, -0.20166446, -0.28854153],\n",
       "       [-0.19810206,  0.30770501,  0.29991633, -0.30186811, -0.32639432],\n",
       "       [-0.28541368, -0.26385692,  0.30485317, -0.30980298,  0.26607296],\n",
       "       [-0.18219042,  0.16980793, -0.14157276, -0.21997988,  0.2767272 ],\n",
       "       [ 0.12212396, -0.33316177,  0.31904322,  0.1456826 , -0.01350435]])"
      ]
     },
     "execution_count": 98,
     "metadata": {},
     "output_type": "execute_result"
    }
   ],
   "source": [
    "net1_cfg[\"l_out_i\"].input_layer.input_layer.W.get_value()[0:5,0:5]"
   ]
  },
  {
   "cell_type": "code",
   "execution_count": 106,
   "metadata": {
    "collapsed": false
   },
   "outputs": [
    {
     "data": {
      "text/plain": [
       "True"
      ]
     },
     "execution_count": 106,
     "metadata": {},
     "output_type": "execute_result"
    }
   ],
   "source": [
    "net1_cfg[\"l_out_i\"].input_layer.input_layer.W == net1_cfg[\"l_out_u\"].input_layer.input_layer.W"
   ]
  },
  {
   "cell_type": "code",
   "execution_count": 116,
   "metadata": {
    "collapsed": false
   },
   "outputs": [],
   "source": [
    "params1 = get_all_params(net1_cfg[\"l_out_i\"], trainable=True)"
   ]
  },
  {
   "cell_type": "code",
   "execution_count": 117,
   "metadata": {
    "collapsed": false
   },
   "outputs": [],
   "source": [
    "params2 = get_all_params(net1_cfg[\"l_out_u\"], trainable=True)"
   ]
  },
  {
   "cell_type": "code",
   "execution_count": 119,
   "metadata": {
    "collapsed": false
   },
   "outputs": [],
   "source": [
    "param_set = set()\n",
    "for elem in params1:\n",
    "    param_set.add(elem)\n",
    "for elem in params2:\n",
    "    param_set.add(elem)"
   ]
  },
  {
   "cell_type": "code",
   "execution_count": 122,
   "metadata": {
    "collapsed": false
   },
   "outputs": [
    {
     "data": {
      "text/plain": [
       "[b, b, W, b, b, b, W, W, b, W, W, b, W, W]"
      ]
     },
     "execution_count": 122,
     "metadata": {},
     "output_type": "execute_result"
    }
   ],
   "source": [
    "list(param_set)"
   ]
  },
  {
   "cell_type": "code",
   "execution_count": null,
   "metadata": {
    "collapsed": true
   },
   "outputs": [],
   "source": []
  }
 ],
 "metadata": {
  "kernelspec": {
   "display_name": "Python 2",
   "language": "python",
   "name": "python2"
  },
  "language_info": {
   "codemirror_mode": {
    "name": "ipython",
    "version": 2
   },
   "file_extension": ".py",
   "mimetype": "text/x-python",
   "name": "python",
   "nbconvert_exporter": "python",
   "pygments_lexer": "ipython2",
   "version": "2.7.12"
  }
 },
 "nbformat": 4,
 "nbformat_minor": 0
}
