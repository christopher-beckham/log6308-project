{
 "cells": [
  {
   "cell_type": "code",
   "execution_count": 1,
   "metadata": {
    "collapsed": true
   },
   "outputs": [],
   "source": [
    "import numpy as np\n",
    "from scipy.sparse import csr_matrix\n",
    "import pdb\n",
    "from time import time\n",
    "import cPickle as pickle\n",
    "import os\n",
    "# --------\n",
    "import theano\n",
    "from theano import tensor as T\n",
    "import lasagne\n",
    "from lasagne.layers import *\n",
    "from lasagne.objectives import *\n",
    "from lasagne.nonlinearities import *\n",
    "from lasagne.updates import *\n",
    "from lasagne.utils import *\n",
    "from lasagne.regularization import *\n",
    "\n",
    "import itertools"
   ]
  },
  {
   "cell_type": "code",
   "execution_count": 3,
   "metadata": {
    "collapsed": true
   },
   "outputs": [],
   "source": [
    "def net1():\n",
    "    \n",
    "    l_in = InputLayer((None, 10))\n",
    "    l_dense1 = DenseLayer(l_in, num_units=5)\n",
    "    l_out = DenseLayer(l_dense1, num_units=1)\n",
    "    \n",
    "    m_in = InputLayer((None, 10))\n",
    "    m_dense1 = DenseLayer(m_in, num_units=5, W=l_dense1.W, b=l_dense1.b)\n",
    "    m_out = DenseLayer(m_dense1, num_units=1)\n",
    "    \n",
    "    return l_out, m_out\n",
    "    \n",
    "    "
   ]
  },
  {
   "cell_type": "code",
   "execution_count": 4,
   "metadata": {
    "collapsed": true
   },
   "outputs": [],
   "source": [
    "out1, out2 = net1()"
   ]
  },
  {
   "cell_type": "code",
   "execution_count": 6,
   "metadata": {
    "collapsed": false
   },
   "outputs": [
    {
     "data": {
      "text/plain": [
       "True"
      ]
     },
     "execution_count": 6,
     "metadata": {},
     "output_type": "execute_result"
    }
   ],
   "source": [
    "out2.input_layer.W == out1.input_layer.W"
   ]
  },
  {
   "cell_type": "code",
   "execution_count": 8,
   "metadata": {
    "collapsed": false
   },
   "outputs": [],
   "source": [
    "X1 = T.fmatrix('x1')\n",
    "y1 = T.fmatrix('y1')\n",
    "X2 = T.fmatrix('x2')\n",
    "y2 = T.fmatrix('y2')"
   ]
  },
  {
   "cell_type": "code",
   "execution_count": 9,
   "metadata": {
    "collapsed": true
   },
   "outputs": [],
   "source": [
    "params = get_all_params(out1) + get_all_params(out2)"
   ]
  },
  {
   "cell_type": "code",
   "execution_count": 10,
   "metadata": {
    "collapsed": false
   },
   "outputs": [
    {
     "data": {
      "text/plain": [
       "[W, b, W, b, W, b, W, b]"
      ]
     },
     "execution_count": 10,
     "metadata": {},
     "output_type": "execute_result"
    }
   ],
   "source": [
    "params"
   ]
  },
  {
   "cell_type": "code",
   "execution_count": 11,
   "metadata": {
    "collapsed": true
   },
   "outputs": [],
   "source": [
    "out1_out = get_output(out1, X1)\n",
    "out2_out = get_output(out2, X2)"
   ]
  },
  {
   "cell_type": "code",
   "execution_count": 12,
   "metadata": {
    "collapsed": true
   },
   "outputs": [],
   "source": [
    "loss = squared_error(out1_out, y1).mean() + squared_error(out2_out, y2).mean()"
   ]
  },
  {
   "cell_type": "code",
   "execution_count": 14,
   "metadata": {
    "collapsed": false
   },
   "outputs": [],
   "source": [
    "updates = sgd(loss, params, 0.01)"
   ]
  },
  {
   "cell_type": "code",
   "execution_count": 15,
   "metadata": {
    "collapsed": true
   },
   "outputs": [],
   "source": [
    "train_fn = theano.function([X1,X2,y1,y2], loss)"
   ]
  },
  {
   "cell_type": "code",
   "execution_count": 22,
   "metadata": {
    "collapsed": false
   },
   "outputs": [
    {
     "data": {
      "text/plain": [
       "array(1.705224696814504)"
      ]
     },
     "execution_count": 22,
     "metadata": {},
     "output_type": "execute_result"
    }
   ],
   "source": [
    "train_fn(\n",
    "    np.random.normal(0,1,size=(5,10)).astype(\"float32\"),\n",
    "    np.random.normal(0,1,size=(5,10)).astype(\"float32\"),\n",
    "    np.random.normal(0,1,size=(5,1)).astype(\"float32\"),\n",
    "    np.random.normal(0,1,size=(5,1)).astype(\"float32\"),\n",
    ")"
   ]
  },
  {
   "cell_type": "code",
   "execution_count": 25,
   "metadata": {
    "collapsed": false
   },
   "outputs": [
    {
     "data": {
      "text/plain": [
       "True"
      ]
     },
     "execution_count": 25,
     "metadata": {},
     "output_type": "execute_result"
    }
   ],
   "source": [
    "out1.input_layer.W == out2.input_layer.W"
   ]
  },
  {
   "cell_type": "code",
   "execution_count": 28,
   "metadata": {
    "collapsed": false
   },
   "outputs": [
    {
     "data": {
      "text/plain": [
       "array([[ -3.85982802e-01,   4.66295915e-01,   4.20956561e-01,\n",
       "         -6.30660155e-01,   4.44010914e-01],\n",
       "       [  1.83069194e-01,   3.59779980e-01,  -2.94486064e-01,\n",
       "         -4.07872109e-01,  -5.67533022e-02],\n",
       "       [ -6.09660326e-01,   4.15512499e-01,  -8.13840779e-02,\n",
       "         -5.75016435e-01,  -4.89533792e-01],\n",
       "       [  2.16640345e-01,   7.36598525e-02,   6.55126029e-02,\n",
       "         -4.38563615e-04,   3.36578814e-01],\n",
       "       [ -5.30377030e-01,   4.79973630e-01,  -5.19347415e-01,\n",
       "         -3.04890476e-01,   6.23382551e-01]])"
      ]
     },
     "execution_count": 28,
     "metadata": {},
     "output_type": "execute_result"
    }
   ],
   "source": [
    "out1.input_layer.W.get_value()[0:5,0:5]"
   ]
  },
  {
   "cell_type": "code",
   "execution_count": 29,
   "metadata": {
    "collapsed": false
   },
   "outputs": [
    {
     "data": {
      "text/plain": [
       "array([[ -3.85982802e-01,   4.66295915e-01,   4.20956561e-01,\n",
       "         -6.30660155e-01,   4.44010914e-01],\n",
       "       [  1.83069194e-01,   3.59779980e-01,  -2.94486064e-01,\n",
       "         -4.07872109e-01,  -5.67533022e-02],\n",
       "       [ -6.09660326e-01,   4.15512499e-01,  -8.13840779e-02,\n",
       "         -5.75016435e-01,  -4.89533792e-01],\n",
       "       [  2.16640345e-01,   7.36598525e-02,   6.55126029e-02,\n",
       "         -4.38563615e-04,   3.36578814e-01],\n",
       "       [ -5.30377030e-01,   4.79973630e-01,  -5.19347415e-01,\n",
       "         -3.04890476e-01,   6.23382551e-01]])"
      ]
     },
     "execution_count": 29,
     "metadata": {},
     "output_type": "execute_result"
    }
   ],
   "source": [
    "out2.input_layer.W.get_value()[0:5,0:5]"
   ]
  },
  {
   "cell_type": "code",
   "execution_count": null,
   "metadata": {
    "collapsed": true
   },
   "outputs": [],
   "source": []
  }
 ],
 "metadata": {
  "kernelspec": {
   "display_name": "Python 2",
   "language": "python",
   "name": "python2"
  },
  "language_info": {
   "codemirror_mode": {
    "name": "ipython",
    "version": 2
   },
   "file_extension": ".py",
   "mimetype": "text/x-python",
   "name": "python",
   "nbconvert_exporter": "python",
   "pygments_lexer": "ipython2",
   "version": "2.7.12"
  }
 },
 "nbformat": 4,
 "nbformat_minor": 0
}
