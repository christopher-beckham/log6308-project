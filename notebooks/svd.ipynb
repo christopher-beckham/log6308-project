{
 "cells": [
  {
   "cell_type": "code",
   "execution_count": 5,
   "metadata": {
    "collapsed": false
   },
   "outputs": [],
   "source": [
    "import numpy as np\n",
    "from scipy import linalg"
   ]
  },
  {
   "cell_type": "code",
   "execution_count": 2,
   "metadata": {
    "collapsed": true
   },
   "outputs": [],
   "source": [
    "dat = np.random.normal(0,1,size=(100,50))"
   ]
  },
  {
   "cell_type": "code",
   "execution_count": 3,
   "metadata": {
    "collapsed": false
   },
   "outputs": [
    {
     "data": {
      "text/plain": [
       "array([[ 1.8382314 ,  0.70203458, -1.39907614, ..., -0.41432479,\n",
       "        -0.65410186, -3.1628597 ],\n",
       "       [-0.72541306, -0.11351731,  2.18984176, ..., -1.46168456,\n",
       "         0.80348212, -0.44685412],\n",
       "       [ 0.81617782, -0.60375056,  0.08047425, ..., -0.26380074,\n",
       "         1.76627808,  0.65802094],\n",
       "       ..., \n",
       "       [-0.47500271,  1.22967018,  1.83431448, ...,  0.27520625,\n",
       "        -0.97348561,  1.29683127],\n",
       "       [-2.6869616 ,  0.08472115,  0.79288446, ...,  1.03290265,\n",
       "        -0.06353873, -0.55631308],\n",
       "       [ 0.97417549,  0.68859456, -1.19357265, ...,  0.81405408,\n",
       "         0.02360276, -0.71805652]])"
      ]
     },
     "execution_count": 3,
     "metadata": {},
     "output_type": "execute_result"
    }
   ],
   "source": []
  },
  {
   "cell_type": "code",
   "execution_count": 11,
   "metadata": {
    "collapsed": false
   },
   "outputs": [
    {
     "name": "stdout",
     "output_type": "stream",
     "text": [
      "(100, 50) (50, 50) (50,)\n"
     ]
    },
    {
     "data": {
      "text/plain": [
       "True"
      ]
     },
     "execution_count": 11,
     "metadata": {},
     "output_type": "execute_result"
    }
   ],
   "source": [
    "U, s, Vh = linalg.svd(dat, full_matrices=False)\n",
    "print U.shape, Vh.shape, s.shape\n",
    "S = linalg.diagsvd(s, 50, 50)\n",
    "np.allclose(dat, np.dot(U, np.dot(S, Vh)))"
   ]
  },
  {
   "cell_type": "code",
   "execution_count": 12,
   "metadata": {
    "collapsed": false
   },
   "outputs": [
    {
     "data": {
      "text/plain": [
       "array([[ 0.02920104, -0.03469249, -0.27310824, ..., -0.0698831 ,\n",
       "        -0.08954962,  0.08039656],\n",
       "       [-0.04275601, -0.00496401,  0.14076205, ..., -0.07565306,\n",
       "        -0.03551305,  0.00621941],\n",
       "       [ 0.06698798, -0.16411406, -0.03379661, ...,  0.12456229,\n",
       "        -0.03681171,  0.1070639 ],\n",
       "       ..., \n",
       "       [ 0.02072126,  0.06144194, -0.0792387 , ...,  0.01097556,\n",
       "         0.01310064, -0.03660678],\n",
       "       [-0.05111623, -0.01551426,  0.11488279, ...,  0.04319157,\n",
       "         0.08968629,  0.04635527],\n",
       "       [-0.02196653, -0.04209508,  0.05314878, ...,  0.04101886,\n",
       "         0.10010793,  0.09959855]])"
      ]
     },
     "execution_count": 12,
     "metadata": {},
     "output_type": "execute_result"
    }
   ],
   "source": []
  },
  {
   "cell_type": "code",
   "execution_count": null,
   "metadata": {
    "collapsed": true
   },
   "outputs": [],
   "source": []
  }
 ],
 "metadata": {
  "kernelspec": {
   "display_name": "Python 2",
   "language": "python",
   "name": "python2"
  },
  "language_info": {
   "codemirror_mode": {
    "name": "ipython",
    "version": 2
   },
   "file_extension": ".py",
   "mimetype": "text/x-python",
   "name": "python",
   "nbconvert_exporter": "python",
   "pygments_lexer": "ipython2",
   "version": "2.7.12"
  }
 },
 "nbformat": 4,
 "nbformat_minor": 0
}
